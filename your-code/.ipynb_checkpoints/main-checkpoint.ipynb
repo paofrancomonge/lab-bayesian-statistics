{
 "cells": [
  {
   "cell_type": "markdown",
   "metadata": {},
   "source": [
    "# Intro to Bayesian Statistics Lab\n",
    "\n",
    "Complete the following set of exercises to solidify your knowledge of Bayesian statistics and Bayesian data analysis."
   ]
  },
  {
   "cell_type": "code",
   "execution_count": 1,
   "metadata": {},
   "outputs": [],
   "source": [
    "import pandas as pd\n",
    "import numpy as np\n",
    "import matplotlib.pyplot as plt"
   ]
  },
  {
   "cell_type": "markdown",
   "metadata": {},
   "source": [
    "## 1. Cookie Problem\n",
    "\n",
    "Suppose we have two bowls of cookies. Bowl 1 contains 30 vanilla cookies and 10 chocolate cookies. Bowl 2 contains 20 of each. You randomly pick one cookie out of one of the bowls, and it is vanilla. Use Bayes Theorem to calculate the probability that the vanilla cookie you picked came from Bowl 1?"
   ]
  },
  {
   "cell_type": "code",
   "execution_count": 2,
   "metadata": {},
   "outputs": [],
   "source": [
    "#bowl_1 = 30 vainilla + 10 chocolate \n",
    "#bowl_2 = 20 vainilla + 20 chocolate \n",
    "\n",
    "#Probability of bowl = 1/2 = 0.5 \n",
    "#Probability of having a vanilla cookie given that it was taken from bowl_1 = 30/40 = 0.75\n",
    "#Probability of having a chocolate cookie given that it was taken from bowl_1 = 10/40 = 0.25\n",
    "#Probability of having a vanilla cookie given that it was taken from bowl_2 = 20/40 = 0.5\n",
    "#Probability of having a chocolate cookie given that it was taken from bowl_2 = 20/40 = 0.5\n",
    "\n",
    "#PROBLEM: probability that the vanilla cookie you picked came from Bowl 1?\n",
    "\n",
    "boxes = [.5, .5]\n",
    "likelihoods = [.75, .5]\n",
    "\n",
    "def bayes(boxes, likelihoods):\n",
    "    marginal = sum(np.multiply(boxes, likelihoods))\n",
    "    numerador = np.multiply(boxes, likelihoods)\n",
    "    posteriori = np.divide(numerador, marginal)\n",
    "    \n",
    "    return posteriori"
   ]
  },
  {
   "cell_type": "code",
   "execution_count": 3,
   "metadata": {},
   "outputs": [
    {
     "data": {
      "text/plain": [
       "array([0.6, 0.4])"
      ]
     },
     "execution_count": 3,
     "metadata": {},
     "output_type": "execute_result"
    }
   ],
   "source": [
    "bayes(boxes, likelihoods)\n",
    "\n",
    "#Probability that the vanilla cookie came from Bowl 1 is 60%"
   ]
  },
  {
   "cell_type": "markdown",
   "metadata": {},
   "source": [
    "What is the probability that it came from Bowl 2?"
   ]
  },
  {
   "cell_type": "code",
   "execution_count": null,
   "metadata": {},
   "outputs": [],
   "source": [
    "#Probability that the vanilla cookie came from Bowl 2 is 40%"
   ]
  },
  {
   "cell_type": "markdown",
   "metadata": {},
   "source": [
    "What if the cookie you had picked was chocolate? What are the probabilities that the chocolate cookie came from Bowl 1 and Bowl 2 respectively?"
   ]
  },
  {
   "cell_type": "code",
   "execution_count": 4,
   "metadata": {},
   "outputs": [],
   "source": [
    "boxes = [.5, .5]\n",
    "likelihoods = [.25, .5]"
   ]
  },
  {
   "cell_type": "code",
   "execution_count": 5,
   "metadata": {},
   "outputs": [
    {
     "data": {
      "text/plain": [
       "array([0.33333333, 0.66666667])"
      ]
     },
     "execution_count": 5,
     "metadata": {},
     "output_type": "execute_result"
    }
   ],
   "source": [
    "bayes(boxes, likelihoods)\n",
    "\n",
    "#Probability that the chocolate cookie came from Bowl 1 is 33.33%\n",
    "#Probability that the chocolate cookie came from Bowl 2 is 66.66%"
   ]
  },
  {
   "cell_type": "markdown",
   "metadata": {},
   "source": [
    "## 2. Candy Problem\n",
    "\n",
    "Suppose you have two bags of candies:\n",
    "\n",
    "- In Bag 1, the mix of colors is:\n",
    "    - Brown - 30%\n",
    "    - Yellow - 20%\n",
    "    - Red - 20%\n",
    "    - Green - 10%\n",
    "    - Orange - 10%\n",
    "    - Tan - 10%\n",
    "    \n",
    "- In Bag 2, the mix of colors is:\n",
    "    - Blue - 24%\n",
    "    - Green - 20%\n",
    "    - Orange - 16%\n",
    "    - Yellow - 14%\n",
    "    - Red - 13%\n",
    "    - Brown - 13%\n",
    "    \n",
    "Not knowing which bag is which, you randomly draw one candy from each bag. One is yellow and one is green. What is the probability that the yellow one came from the Bag 1?\n",
    "\n",
    "*Hint: For the likelihoods, you will need to multiply the probabilities of drawing yellow from one bag and green from the other bag and vice versa.*"
   ]
  },
  {
   "cell_type": "code",
   "execution_count": 8,
   "metadata": {},
   "outputs": [],
   "source": [
    "#https://stats.stackexchange.com/questions/219892/think-bayes-book-the-mm-problem-how-is-normalizing-constant-calculated\n",
    "\n",
    "bags = [.5, .5 ]\n",
    "\n",
    "bags = [.5, .5 ]\n",
    "likelihoods = [(.2*.2), (.1*.1)]\n",
    "\n",
    "#.2 (yellow of bag 1)* .2 (green of bag 2)\n",
    "#.14 (yellow of bag 2) * .1 (green of bag 1)"
   ]
  },
  {
   "cell_type": "code",
   "execution_count": 9,
   "metadata": {},
   "outputs": [
    {
     "data": {
      "text/plain": [
       "array([0.74074074, 0.25925926])"
      ]
     },
     "execution_count": 9,
     "metadata": {},
     "output_type": "execute_result"
    }
   ],
   "source": [
    "bayes(boxes, likelihoods)\n",
    "\n",
    "#Probability that the yellow came from bag 1 is 74.07%"
   ]
  },
  {
   "cell_type": "code",
   "execution_count": 10,
   "metadata": {},
   "outputs": [],
   "source": [
    "bags = [.5, .5 ]\n",
    "likelihoods = [(.1*.14), (.2*.2)]\n",
    "\n",
    "#.14 (yellow of bag 2) * .1 (green of bag 1)\n",
    "#.2 (yellow of bag 1)* .2 (green of bag 2)"
   ]
  },
  {
   "cell_type": "markdown",
   "metadata": {},
   "source": [
    "What is the probability that the yellow candy came from Bag 2?"
   ]
  },
  {
   "cell_type": "code",
   "execution_count": 11,
   "metadata": {},
   "outputs": [
    {
     "data": {
      "text/plain": [
       "array([0.25925926, 0.74074074])"
      ]
     },
     "execution_count": 11,
     "metadata": {},
     "output_type": "execute_result"
    }
   ],
   "source": [
    "bayes(boxes, likelihoods)\n",
    "\n",
    "#Probability that the yellow came from bag 1 is 25.92%"
   ]
  },
  {
   "cell_type": "markdown",
   "metadata": {},
   "source": [
    "What are the probabilities that the green one came from Bag 1 and Bag 2 respectively?"
   ]
  },
  {
   "cell_type": "code",
   "execution_count": null,
   "metadata": {},
   "outputs": [],
   "source": [
    "#Probability that the green candy came from Bag 1 is 25.92%\n",
    "#Probability that the green candy came from Bag 2 is 74.07%"
   ]
  },
  {
   "cell_type": "markdown",
   "metadata": {},
   "source": [
    "## 3. Monty Hall Problem\n",
    "\n",
    "Suppose you are a contestant on the popular game show *Let's Make a Deal*. The host of the show (Monty Hall) presents you with three doors - Door A, Door B, and Door C. He tells you that there is a sports car behind one of them and if you choose the correct one, you win the car!\n",
    "\n",
    "You select Door A, but then Monty makes things a little more interesting. He opens Door B to reveal that there is no sports car behind it and asks you if you would like to stick with your choice of Door A or switch your choice to Door C. Given this new information, what are the probabilities of you winning the car if you stick with Door A versus if you switch to Door C?"
   ]
  },
  {
   "cell_type": "code",
   "execution_count": null,
   "metadata": {},
   "outputs": [],
   "source": [
    "#https://statisticsbyjim.com/fun/monty-hall-problem/\n",
    "#https://towardsdatascience.com/solving-the-monty-hall-problem-with-bayes-theorem-893289953e16\n",
    "\n",
    "#Initial probability that the car is behind any given door is 1/3 = 33% \n",
    "\n",
    "#Monty can open either door B or C (.5 of probability), however he knows where the price is \n",
    "#and will not open that one\n",
    "\n",
    "#When B door is opened and empty, if I DO NOT SWITCH the probability to win is still 1/3 = 33%\n",
    "\n",
    "#When B door is opened and empty, if I SWITCH the probability to win is 2/3 = 66% \n",
    "\n",
    "NUMERADOR: \n",
    "probabilidad inicial del concursante haya escogido carro (1/3)\n",
    "* la probabilidad de que Monti abra una de los 2 puertas restantes (ninguna tiene el carro y \n",
    "puede abrir cualquiera de las dos) (1/2) = 1/6\n",
    "\n",
    "probabilidad inicial del concursante NO haya escogido carro (2/3)\n",
    "* la probabilidad de que Monti abra una de los 2 puertas restantes (una tiene el carro y NO la\n",
    "puede abrir, la otra está vacía y es la única que puede abrir) (1) = 2/3\n",
    "\n",
    "\n",
    "DENOMINADOR\n",
    "1/6 + 2/3 = 1/2\n",
    "\n",
    "POSTERIOR\n",
    "probabilidad de que el carro esté en la puerta A dado que abre la B es (1/6) / (1/2) = 1/3\n",
    "probabilidad de que el carro esté en la puerta C dado que abre la B es (1/3) / (1/2) = 2/3"
   ]
  },
  {
   "cell_type": "code",
   "execution_count": null,
   "metadata": {},
   "outputs": [],
   "source": [
    "p(Car door A) = 1/3 \n",
    "p(Car door B) = 1/3 \n",
    "p(Car door C) = 1/3 \n",
    "\n",
    "p(H = B | Car = A) = .5 #considering I selected door A, probabilities of Monty Hall openning Door B if car is behind A \n",
    "p(H = B | Car = B) = 0 #considering I selected door A, probabilities of Monty Hall openning Door B if car is behind B \n",
    "p(H = B | Car = C) = 1 #considering I selected door A, probabilities of Monty Hall openning Door B if car is behind C\n",
    "\n",
    "#Should I stick with Door A or should I switch to Door C \n",
    "p(Car = C | H = B)= ?\n",
    "p(Car = A | H = B)= ?"
   ]
  },
  {
   "cell_type": "code",
   "execution_count": 63,
   "metadata": {},
   "outputs": [
    {
     "name": "stdout",
     "output_type": "stream",
     "text": [
      "The probability of winning the car given I switch doors after Monty opened door B: 0.6666666666666666\n"
     ]
    }
   ],
   "source": [
    "#p(Car = C | H = B) \n",
    "switch = ((1)*(1/3)) / (((.5)*(1/3)) + ((0)*(1/3)) + ((1)*(1/3)))\n",
    "print(f'The probability of winning the car given I switch doors after Monty opened door B: {switch}')"
   ]
  },
  {
   "cell_type": "code",
   "execution_count": 64,
   "metadata": {},
   "outputs": [
    {
     "name": "stdout",
     "output_type": "stream",
     "text": [
      "The probability of winning the car given I do not switch doors after Monty opened door B: 0.3333333333333333\n"
     ]
    }
   ],
   "source": [
    "#p(Car = A | H = B)\n",
    "no_switch = ((.5)*(1/3)) / (((.5)*(1/3)) + ((0)*(1/3)) + ((1)*(1/3)))\n",
    "print(f'The probability of winning the car given I do not switch doors after Monty opened door B: {no_switch}')"
   ]
  },
  {
   "cell_type": "markdown",
   "metadata": {},
   "source": [
    "## 4. Bayesian Analysis \n",
    "\n",
    "Suppose you work for a landscaping company, and they want to advertise their service online. They create an ad and sit back waiting for the money to roll in. On the first day, the ad sends 100 visitors to the site and 14 of them sign up for landscaping services. Create a generative model to come up with the posterior distribution and produce a visualization of what the posterior distribution would look like given the observed data."
   ]
  },
  {
   "cell_type": "code",
   "execution_count": 44,
   "metadata": {},
   "outputs": [],
   "source": [
    "n_draws = 100000\n",
    "prior = pd.Series(np.random.uniform(0,1, size = n_draws))\n",
    "#list of randomn samples of 100k between 0 and 1 \n",
    "\n",
    "visitors = 100 \n",
    "registered = 14\n",
    "\n",
    "def generative_model(param):\n",
    "    result = np.random.binomial(visitors, param) #probability they sign up given they visited\n",
    "    return result  "
   ]
  },
  {
   "cell_type": "code",
   "execution_count": 45,
   "metadata": {},
   "outputs": [],
   "source": [
    "signed = list() #a list of the ones that registered \n",
    "\n",
    "for p in prior:\n",
    "    signed.append(generative_model(p)) \n",
    "    "
   ]
  },
  {
   "cell_type": "code",
   "execution_count": 48,
   "metadata": {},
   "outputs": [],
   "source": [
    "posterior = prior[list(map(lambda x: x == registered, signed))]"
   ]
  },
  {
   "cell_type": "code",
   "execution_count": 47,
   "metadata": {},
   "outputs": [
    {
     "data": {
      "image/png": "[encoded data removed]",
      "text/plain": [
       "<Figure size 720x360 with 1 Axes>"
      ]
     },
     "metadata": {},
     "output_type": "display_data"
    }
   ],
   "source": [
    "plt.figure(figsize=(10,5),facecolor='w')\n",
    "posterior.hist();"
   ]
  },
  {
   "cell_type": "markdown",
   "metadata": {},
   "source": [
    "Produce a set of descriptive statistics for the posterior distribution."
   ]
  },
  {
   "cell_type": "code",
   "execution_count": 49,
   "metadata": {},
   "outputs": [
    {
     "data": {
      "text/plain": [
       "count    1025.000000\n",
       "mean        0.146741\n",
       "std         0.033657\n",
       "min         0.068191\n",
       "25%         0.124318\n",
       "50%         0.144643\n",
       "75%         0.168082\n",
       "max         0.256258\n",
       "dtype: float64"
      ]
     },
     "execution_count": 49,
     "metadata": {},
     "output_type": "execute_result"
    }
   ],
   "source": [
    "posterior.describe()"
   ]
  },
  {
   "cell_type": "markdown",
   "metadata": {},
   "source": [
    "What is the 90% credible interval range?"
   ]
  },
  {
   "cell_type": "code",
   "execution_count": 50,
   "metadata": {},
   "outputs": [
    {
     "name": "stdout",
     "output_type": "stream",
     "text": [
      "0.08604272048278097 | 0.22137189148110875\n"
     ]
    }
   ],
   "source": [
    "print(posterior.quantile(.025), '|', posterior.quantile(.975))"
   ]
  },
  {
   "cell_type": "markdown",
   "metadata": {},
   "source": [
    "What is the Maximum Likelihood Estimate?"
   ]
  },
  {
   "cell_type": "code",
   "execution_count": 51,
   "metadata": {},
   "outputs": [
    {
     "name": "stdout",
     "output_type": "stream",
     "text": [
      "Maximum Likelihood Estimate:  0.13 | 0.13170731707317074\n"
     ]
    }
   ],
   "source": [
    "rounded = posterior.round(2)\n",
    "mode = rounded.mode()[0]\n",
    "probability = list(rounded).count(mode)/len(rounded)\n",
    "print('Maximum Likelihood Estimate: ', mode, '|',probability)\n",
    "\n",
    "#This tells us that given the data we have thus far, it is most likely that 13% of the \n",
    "#visitors will sign up."
   ]
  },
  {
   "cell_type": "code",
   "execution_count": null,
   "metadata": {},
   "outputs": [],
   "source": []
  }
 ],
 "metadata": {
  "kernelspec": {
   "display_name": "Python 3",
   "language": "python",
   "name": "python3"
  },
  "language_info": {
   "codemirror_mode": {
    "name": "ipython",
    "version": 3
   },
   "file_extension": ".py",
   "mimetype": "text/x-python",
   "name": "python",
   "nbconvert_exporter": "python",
   "pygments_lexer": "ipython3",
   "version": "3.8.6"
  }
 },
 "nbformat": 4,
 "nbformat_minor": 2
}
